{
 "cells": [
  {
   "cell_type": "code",
   "execution_count": null,
   "metadata": {},
   "outputs": [],
   "source": [
    "import os \n",
    "import sys\n",
    "import json\n",
    "import re\n",
    "\n",
    "f = open('surah.json', 'r')\n",
    "surah = json.load(f)\n",
    "for i in surah:\n",
    "    print(surah[i]['name'])\n",
    "\n",
    "    "
   ]
  },
  {
   "cell_type": "code",
   "execution_count": 9,
   "metadata": {},
   "outputs": [
    {
     "data": {
      "text/plain": [
       "6236"
      ]
     },
     "execution_count": 9,
     "metadata": {},
     "output_type": "execute_result"
    }
   ],
   "source": [
    "translate = newlines\n",
    "len(translate)"
   ]
  },
  {
   "cell_type": "code",
   "execution_count": 11,
   "metadata": {},
   "outputs": [],
   "source": [
    "import os \n",
    "import json\n",
    "import sys \n",
    "import re"
   ]
  },
  {
   "cell_type": "code",
   "execution_count": 12,
   "metadata": {},
   "outputs": [],
   "source": [
    "from id import simm \n",
    "from data import ayat\n"
   ]
  },
  {
   "cell_type": "code",
   "execution_count": null,
   "metadata": {},
   "outputs": [],
   "source": [
    "# make a list of all the surahs name \n",
    "f = open('en-tanzil.json', 'r')\n",
    "surah = json.load(f)\n",
    "surahname = []\n",
    "for i in range(1,115):\n",
    "    surahname.append(surah[str(i)]['name'])\n",
    "f.close()\n",
    "surahname"
   ]
  },
  {
   "cell_type": "markdown",
   "metadata": {},
   "source": [
    "data we got in form of variable list:\n",
    "-translate = list of string of translation of each verse\n",
    "-simm = list of list of dict of similar verses\n",
    "-surahname = list of string of name of each surah in english \n",
    "-ayat = list of int and str of ayat number and ayat text"
   ]
  },
  {
   "cell_type": "markdown",
   "metadata": {},
   "source": [
    "now the problems is that we want to convert this data into markdown format so that we can use it in our app. \n",
    "specifically we want to convert it into this format:\n",
    "ayat.md is surah name in arabic and number verse. this file will be convert to be used in our app. \n",
    "then the verse text\n",
    "then the translation\n",
    "then the similar verses with their surah name and ayat number. earch similar verse should be in a new line. each similar verse is clickable and will open the ayat.md file of that verse. \n",
    "at the bottom of page there is a button that will open the next ayat.md file base on ayat list index. and there is a button that will open the previous ayat.md file base on ayat list index.\n",
    "we need a function that will convert the data into this format."
   ]
  },
  {
   "cell_type": "code",
   "execution_count": 20,
   "metadata": {},
   "outputs": [
    {
     "data": {
      "text/plain": [
       "['Ash-Shams',\n",
       " 'Al-Lail',\n",
       " 'Ad-Dhuhaa',\n",
       " 'Ash-Sharh',\n",
       " 'At-Tin',\n",
       " 'Al-Alaq',\n",
       " 'Al-Qadr',\n",
       " 'Al-Bayyina',\n",
       " 'Az-Zalzala',\n",
       " 'Al-Aadiyaat',\n",
       " \"Al-Qaari'a\",\n",
       " 'At-Takaathur',\n",
       " 'Al-Asr',\n",
       " 'Al-Humaza',\n",
       " 'Al-Fil',\n",
       " 'Quraish',\n",
       " \"Al-Maa'un\",\n",
       " 'Al-Kawthar',\n",
       " 'Al-Kaafiroon',\n",
       " 'An-Nasr',\n",
       " 'Al-Lahab',\n",
       " 'Al-Ikhlaas',\n",
       " 'Al-Falaq',\n",
       " 'An-Naas']"
      ]
     },
     "execution_count": 20,
     "metadata": {},
     "output_type": "execute_result"
    }
   ],
   "source": [
    "# so first we need to create a function that take index of ayat and return the surah name and its ayat number\n",
    "# there is 6236 ayat in the quran\n",
    "# and there is 114 surah in the quran\n",
    "# each surah have different number of ayat\n",
    "# so we need to make a function that take index of ayat and return the surah name and its ayat number "
   ]
  }
 ],
 "metadata": {
  "kernelspec": {
   "display_name": "Python 3.10.7 64-bit",
   "language": "python",
   "name": "python3"
  },
  "language_info": {
   "codemirror_mode": {
    "name": "ipython",
    "version": 3
   },
   "file_extension": ".py",
   "mimetype": "text/x-python",
   "name": "python",
   "nbconvert_exporter": "python",
   "pygments_lexer": "ipython3",
   "version": "3.10.7"
  },
  "orig_nbformat": 4,
  "vscode": {
   "interpreter": {
    "hash": "eb4a0ac80907d7f44e1a5e88d3d3381b33e3dbedd3a24d113e876f30a0c46bee"
   }
  }
 },
 "nbformat": 4,
 "nbformat_minor": 2
}
