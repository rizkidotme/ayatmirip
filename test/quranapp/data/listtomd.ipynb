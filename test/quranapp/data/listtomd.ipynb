{
 "cells": [
  {
   "cell_type": "code",
   "execution_count": null,
   "metadata": {},
   "outputs": [],
   "source": [
    "import os \n",
    "import sys\n",
    "import json\n",
    "import re\n",
    "\n",
    "f = open('surah.json', 'r')\n",
    "surah = json.load(f)\n",
    "for i in surah:\n",
    "    print(surah[i]['name'])\n",
    "\n",
    "    "
   ]
  },
  {
   "cell_type": "code",
   "execution_count": 9,
   "metadata": {},
   "outputs": [
    {
     "data": {
      "text/plain": [
       "6236"
      ]
     },
     "execution_count": 9,
     "metadata": {},
     "output_type": "execute_result"
    }
   ],
   "source": [
    "translate = newlines\n",
    "len(translate)"
   ]
  },
  {
   "cell_type": "code",
   "execution_count": 11,
   "metadata": {},
   "outputs": [],
   "source": [
    "import os \n",
    "import json\n",
    "import sys \n",
    "import re"
   ]
  },
  {
   "cell_type": "code",
   "execution_count": 12,
   "metadata": {},
   "outputs": [],
   "source": [
    "from id import simm \n",
    "from data import ayat\n"
   ]
  },
  {
   "cell_type": "code",
   "execution_count": null,
   "metadata": {},
   "outputs": [],
   "source": [
    "# make a list of all the surahs name \n",
    "f = open('en-tanzil.json', 'r')\n",
    "surah = json.load(f)\n",
    "surahname = []\n",
    "for i in range(1,115):\n",
    "    surahname.append(surah[str(i)]['name'])\n",
    "f.close()\n",
    "surahname"
   ]
  },
  {
   "cell_type": "markdown",
   "metadata": {},
   "source": [
    "now the problems is that we want to convert this data into markdown format so that we can use it in our app. \n",
    "specifically we want to convert it into this format:\n",
    "ayat.md is surah name in arabic and number verse. this file will be convert to be used in our app. \n",
    "then the verse text\n",
    "then the translation\n",
    "then the similar verses with their surah name and ayat number. earch similar verse should be in a new line. each similar verse is clickable and will open the ayat.md file of that verse. \n",
    "at the bottom of page there is a button that will open the next ayat.md file base on ayat list index. and there is a button that will open the previous ayat.md file base on ayat list index.\n",
    "we need a function that will convert the data into this format."
   ]
  },
  {
   "cell_type": "code",
   "execution_count": 145,
   "metadata": {},
   "outputs": [
    {
     "name": "stdout",
     "output_type": "stream",
     "text": [
      "114\n"
     ]
    }
   ],
   "source": [
    "# so first we need to create a function that take index of ayat and return the surah name and its ayat number\n",
    "# there is 6236 ayat in the quran\n",
    "# and there is 114 surah in the quran\n",
    "# each surah have different number of ayat\n",
    "# so we need to make a function that take index of ayat and return the surah name and its ayat number \n",
    "f = open('surah.json', 'r')\n",
    "surah = json.load(f)\n",
    "lensurah = []\n",
    "for i in surah:\n",
    "    lensurah.append(surah[i]['nAyah'])\n",
    "f.close()\n",
    "print(len(lensurah))"
   ]
  },
  {
   "cell_type": "code",
   "execution_count": null,
   "metadata": {},
   "outputs": [],
   "source": [
    "ayat[:10]"
   ]
  },
  {
   "cell_type": "code",
   "execution_count": 198,
   "metadata": {},
   "outputs": [],
   "source": [
    "def ayatandsurah(id): \n",
    "    id = id  \n",
    "    return surahname[ayat[id][0]], ayat[id][1]"
   ]
  },
  {
   "cell_type": "code",
   "execution_count": 207,
   "metadata": {},
   "outputs": [
    {
     "ename": "IndexError",
     "evalue": "list index out of range",
     "output_type": "error",
     "traceback": [
      "\u001b[0;31m---------------------------------------------------------------------------\u001b[0m",
      "\u001b[0;31mIndexError\u001b[0m                                Traceback (most recent call last)",
      "Cell \u001b[0;32mIn [207], line 1\u001b[0m\n\u001b[0;32m----> 1\u001b[0m ayatandsurah(\u001b[38;5;241m6235\u001b[39m)\n",
      "Cell \u001b[0;32mIn [198], line 3\u001b[0m, in \u001b[0;36mayatandsurah\u001b[0;34m(id)\u001b[0m\n\u001b[1;32m      1\u001b[0m \u001b[38;5;28;01mdef\u001b[39;00m \u001b[38;5;21mayatandsurah\u001b[39m(\u001b[38;5;28mid\u001b[39m): \n\u001b[1;32m      2\u001b[0m     \u001b[38;5;28mid\u001b[39m \u001b[38;5;241m=\u001b[39m \u001b[38;5;28mid\u001b[39m \u001b[38;5;241m-\u001b[39m \u001b[38;5;241m1\u001b[39m \n\u001b[0;32m----> 3\u001b[0m     \u001b[38;5;28;01mreturn\u001b[39;00m \u001b[43msurahname\u001b[49m\u001b[43m[\u001b[49m\u001b[43mayat\u001b[49m\u001b[43m[\u001b[49m\u001b[38;5;28;43mid\u001b[39;49m\u001b[43m]\u001b[49m\u001b[43m[\u001b[49m\u001b[38;5;241;43m0\u001b[39;49m\u001b[43m]\u001b[49m\u001b[43m]\u001b[49m, ayat[\u001b[38;5;28mid\u001b[39m][\u001b[38;5;241m1\u001b[39m]\n",
      "\u001b[0;31mIndexError\u001b[0m: list index out of range"
     ]
    }
   ],
   "source": [
    "ayatandsurah(6235)"
   ]
  },
  {
   "cell_type": "markdown",
   "metadata": {},
   "source": []
  },
  {
   "cell_type": "code",
   "execution_count": 143,
   "metadata": {},
   "outputs": [],
   "source": [
    "# now we need to make a function that take the index of ayat and return the arabic text of that ayat\n",
    "def idtoinfo(id):\n",
    "    id = id \n",
    "    \n",
    "    print('{}:{}. \\n {} \\nmeaning:{} \\n### similar verses: '.format(surahname[ayat[id][0]], ayat[id][1],ayat[id][2], translate[id]))\n",
    "    counter = 0 \n",
    "    for i in simm[id]:\n",
    "        if i['corpus_id'] == id:\n",
    "            continue\n",
    "        elif i['score'] > 0.999:\n",
    "            print('{}:{}. \\n {} '.format(surahname[ayat[i['corpus_id']][0]], ayat[i['corpus_id']][1],ayat[i['corpus_id']][2]))\n",
    "        \n",
    "        elif i['score'] > 0.50:\n",
    "            print('{}:{}. \\n {} (sim:{:.1f}%)'.format(surahname[ayat[i['corpus_id']][0]], ayat[i['corpus_id']][1],ayat[i['corpus_id']][2], i['score']*100))\n",
    "        else:\n",
    "            counter += 1 \n",
    "            if counter == 1: \n",
    "                print(\"our AI can't find any similar verses\")  \n",
    "        "
   ]
  },
  {
   "cell_type": "code",
   "execution_count": null,
   "metadata": {},
   "outputs": [],
   "source": [
    "idtoinfo(2000)"
   ]
  },
  {
   "cell_type": "markdown",
   "metadata": {},
   "source": []
  },
  {
   "cell_type": "markdown",
   "metadata": {},
   "source": [
    "our directory structure is:\n",
    "- blog - quran - surah - verses - ayat-{surahnumber}-{ayahnumber}.md \n",
    "each ayat.md file will have the ayat number and surah name in arabic. \n",
    "then the verse text\n",
    "then the translation\n",
    "then the similar verses with their surah name and ayat number. earch similar verse should be in a new line. each similar verse is clickable and will open the ayat.md file of that verse.\n",
    "\n",
    "so as we use markdown to link /blog/quran/surah/verses/ayat-1-1.md is the first ayat of surah al fatiha.\n",
    "we can use markdown to link to other ayat.md file.\n",
    "[QS.1:1](/blog/quran/surah/verses/ayat-1-1.md) you got it right. thanks for your help. "
   ]
  },
  {
   "cell_type": "markdown",
   "metadata": {},
   "source": [
    "---\n",
    "front matter of ayat-{}-{}.md.format()\n",
    "title : \"QS.{}\".\n",
    "tags: []\n",
    "date: 2020-01-01\n",
    "draft: false\n",
    "summary: ''\n",
    "layout: PostSimple\n",
    "--- \n",
    "## إِنَّمَا سُلْطَانُهُ عَلَى الَّذِينَ يَتَوَلَّوْنَهُ وَالَّذِينَ هُمْ بِهِ مُشْرِكُونَ \n",
    "translate: \n",
    "\n",
    "\n",
    "others verses that have something related: \n",
    "\n",
    "\n",
    "\\<==\n",
    "[next](/blog/quran/surah/verses) ===========\n",
    "[prev](/blog/quran/surah/verses) ==\\>"
   ]
  },
  {
   "cell_type": "code",
   "execution_count": 154,
   "metadata": {},
   "outputs": [],
   "source": [
    "# we also need library to manage time for frontmatter md file\n",
    "import time\n",
    "import datetime\n",
    "# set first march of 2001 as the first day of the quran\n",
    "# each ayat have 1 day\n",
    "# so using this we can sort but in reverse chronological order\n",
    "# so the first ayat will shown first, since we are using reverse chronological order in web app\n",
    "# make a function that take index of ayat and return the date of that ayat\n",
    "def idtodate(id):\n",
    "    id = id\n",
    "    date = datetime.datetime(2001, 3, 1) + datetime.timedelta(days=id)\n",
    "    return date.strftime('%Y-%m-%d')"
   ]
  },
  {
   "cell_type": "code",
   "execution_count": null,
   "metadata": {},
   "outputs": [],
   "source": [
    "listofdate = []\n",
    "for i in range (6236):\n",
    "    listofdate.append(idtodate(i))\n"
   ]
  },
  {
   "cell_type": "code",
   "execution_count": 200,
   "metadata": {},
   "outputs": [
    {
     "ename": "IndexError",
     "evalue": "list index out of range",
     "output_type": "error",
     "traceback": [
      "\u001b[0;31m---------------------------------------------------------------------------\u001b[0m",
      "\u001b[0;31mIndexError\u001b[0m                                Traceback (most recent call last)",
      "Cell \u001b[0;32mIn [200], line 1\u001b[0m\n\u001b[0;32m----> 1\u001b[0m ayatandsurah(\u001b[38;5;241m0\u001b[39m)\n",
      "Cell \u001b[0;32mIn [198], line 3\u001b[0m, in \u001b[0;36mayatandsurah\u001b[0;34m(id)\u001b[0m\n\u001b[1;32m      1\u001b[0m \u001b[38;5;28;01mdef\u001b[39;00m \u001b[38;5;21mayatandsurah\u001b[39m(\u001b[38;5;28mid\u001b[39m): \n\u001b[1;32m      2\u001b[0m     \u001b[38;5;28mid\u001b[39m \u001b[38;5;241m=\u001b[39m \u001b[38;5;28mid\u001b[39m \u001b[38;5;241m-\u001b[39m \u001b[38;5;241m1\u001b[39m \n\u001b[0;32m----> 3\u001b[0m     \u001b[38;5;28;01mreturn\u001b[39;00m \u001b[43msurahname\u001b[49m\u001b[43m[\u001b[49m\u001b[43mayat\u001b[49m\u001b[43m[\u001b[49m\u001b[38;5;28;43mid\u001b[39;49m\u001b[43m]\u001b[49m\u001b[43m[\u001b[49m\u001b[38;5;241;43m0\u001b[39;49m\u001b[43m]\u001b[49m\u001b[43m]\u001b[49m, ayat[\u001b[38;5;28mid\u001b[39m][\u001b[38;5;241m1\u001b[39m]\n",
      "\u001b[0;31mIndexError\u001b[0m: list index out of range"
     ]
    }
   ],
   "source": [
    "ayatandsurah(0)"
   ]
  },
  {
   "cell_type": "markdown",
   "metadata": {},
   "source": [
    "to this point we have several function that will help us to convert the data into this format.\n",
    "- ayatandsurah that take id of ayat and return ayat number and surah name in arabic \n",
    "- idtoinfo that take id of ayat and return huge info about that ayat.  \n",
    "\n",
    "data we got in form of variable list:\n",
    "- translate = list of string of translation of each verse\n",
    "- simm = list of list of dict of similar verses\n",
    "- surahname = list of string of name of each surah in english \n",
    "- ayat = list of int and str of ayat number and ayat text\n",
    "- lensurah = list of int of number of ayat in each surah\n",
    "- listofdate = list of string of date of each ayat in format yyyy-mm-dd \n"
   ]
  },
  {
   "cell_type": "code",
   "execution_count": null,
   "metadata": {},
   "outputs": [],
   "source": [
    "print(\"{}\\n{}\\n{}\\n{}\".format(len(translate), len(simm), len(ayat), len(listofdate)))"
   ]
  },
  {
   "cell_type": "markdown",
   "metadata": {},
   "source": [
    "id to link to ayat.md file is the index of ayat in ayat list."
   ]
  },
  {
   "cell_type": "code",
   "execution_count": 175,
   "metadata": {},
   "outputs": [],
   "source": [
    "def idtolink(id):\n",
    "    return '/blog/quran/{}/{}'.format(ayat[id][0], ayat[id][1])"
   ]
  },
  {
   "cell_type": "code",
   "execution_count": 226,
   "metadata": {},
   "outputs": [
    {
     "data": {
      "text/plain": [
       "'/blog/quran/16/100'"
      ]
     },
     "execution_count": 226,
     "metadata": {},
     "output_type": "execute_result"
    }
   ],
   "source": [
    "def multilink(id):\n",
    "    return '/blog/quran/{}/{}'.format(ayat[id][0], ayat[id][1])\n",
    "multilink(2000)"
   ]
  },
  {
   "cell_type": "code",
   "execution_count": 229,
   "metadata": {},
   "outputs": [
    {
     "name": "stdout",
     "output_type": "stream",
     "text": [
      "6236\n"
     ]
    }
   ],
   "source": [
    "ayahhh = 0\n",
    "for i in range(len(lensurah)):\n",
    "    for j in range(lensurah[i]): "
   ]
  },
  {
   "cell_type": "code",
   "execution_count": 224,
   "metadata": {},
   "outputs": [
    {
     "ename": "TypeError",
     "evalue": "expected str, bytes or os.PathLike object, not list",
     "output_type": "error",
     "traceback": [
      "\u001b[0;31m---------------------------------------------------------------------------\u001b[0m",
      "\u001b[0;31mTypeError\u001b[0m                                 Traceback (most recent call last)",
      "Cell \u001b[0;32mIn [224], line 1\u001b[0m\n\u001b[0;32m----> 1\u001b[0m \u001b[38;5;28;01mfor\u001b[39;00m root, dirs, files \u001b[38;5;129;01min\u001b[39;00m os\u001b[38;5;241m.\u001b[39mwalk(\u001b[38;5;28mdir\u001b[39m): \n\u001b[1;32m      2\u001b[0m     \u001b[38;5;28mprint\u001b[39m(dirs)\n",
      "File \u001b[0;32m/usr/local/python/3.10.7/lib/python3.10/os.py:342\u001b[0m, in \u001b[0;36mwalk\u001b[0;34m(top, topdown, onerror, followlinks)\u001b[0m\n\u001b[1;32m    283\u001b[0m \u001b[39m\"\"\"Directory tree generator.\u001b[39;00m\n\u001b[1;32m    284\u001b[0m \n\u001b[1;32m    285\u001b[0m \u001b[39mFor each directory in the directory tree rooted at top (including top\u001b[39;00m\n\u001b[0;32m   (...)\u001b[0m\n\u001b[1;32m    339\u001b[0m \n\u001b[1;32m    340\u001b[0m \u001b[39m\"\"\"\u001b[39;00m\n\u001b[1;32m    341\u001b[0m sys\u001b[39m.\u001b[39maudit(\u001b[39m\"\u001b[39m\u001b[39mos.walk\u001b[39m\u001b[39m\"\u001b[39m, top, topdown, onerror, followlinks)\n\u001b[0;32m--> 342\u001b[0m \u001b[39mreturn\u001b[39;00m _walk(fspath(top), topdown, onerror, followlinks)\n",
      "\u001b[0;31mTypeError\u001b[0m: expected str, bytes or os.PathLike object, not list"
     ]
    }
   ],
   "source": [
    "for i in range(len(lensurah)):\n",
    "    for j in range(lensurah[i]):\n",
    "        # this is for ayah.md name \n",
    "            with open('dir/{}/{}.md'.format(i+1,j), 'w') as f:\n",
    "                f.write('---\\n')\n",
    "                f.write('title: {}:{}\\n'.format(surahname[ayat[j][0]], ayat[j][1]))\n",
    "                f.write('date: {}\\n'.format(listofdate[j]))\n",
    "                f.write('---\\n')\n",
    "                f.write('{}:{}\\n'.format(surahname[ayat[j][0]], ayat[j][1]))\n",
    "                f.write('{}\\n'.format(ayat[j][2]))\n",
    "                f.write('### meaning: \\n')\n",
    "                f.write('{}\\n'.format(translate[j]))\n",
    "                f.write('### similar verses: \\n')\n",
    "                counter = 0 \n",
    "                for i in simm[j]:\n",
    "                    if i['corpus_id'] == j:\n",
    "                        continue\n",
    "                    elif i['score'] > 0.999:\n",
    "                        f.write('{}:{}\\n'.format(surahname[ayat[i['corpus_id']][0]], ayat[i['corpus_id']][1]))\n",
    "                        f.write('{}\\n'.format(ayat[i['corpus_id']][2]))\n",
    "                    elif i['score'] > 0.50:\n",
    "                        f.write('{}:{} (sim:{:.1f}%)\\n'.format(surahname[ayat[i['corpus_id']][0]], ayat[i['corpus_id']][1], i['score']*100))\n",
    "                        f.write('{}\\n'.format(ayat[i['corpus_id']][2]))\n",
    "                    else:\n",
    "                        counter += 1 \n",
    "                        if counter == 1: \n",
    "                            f.write(\"our AI can't find any similar verses\\n\")  \n",
    "                f.close()"
   ]
  },
  {
   "cell_type": "code",
   "execution_count": null,
   "metadata": {},
   "outputs": [],
   "source": [
    "    "
   ]
  }
 ],
 "metadata": {
  "kernelspec": {
   "display_name": "Python 3.10.7 64-bit",
   "language": "python",
   "name": "python3"
  },
  "language_info": {
   "codemirror_mode": {
    "name": "ipython",
    "version": 3
   },
   "file_extension": ".py",
   "mimetype": "text/x-python",
   "name": "python",
   "nbconvert_exporter": "python",
   "pygments_lexer": "ipython3",
   "version": "3.10.7"
  },
  "orig_nbformat": 4,
  "vscode": {
   "interpreter": {
    "hash": "eb4a0ac80907d7f44e1a5e88d3d3381b33e3dbedd3a24d113e876f30a0c46bee"
   }
  }
 },
 "nbformat": 4,
 "nbformat_minor": 2
}
